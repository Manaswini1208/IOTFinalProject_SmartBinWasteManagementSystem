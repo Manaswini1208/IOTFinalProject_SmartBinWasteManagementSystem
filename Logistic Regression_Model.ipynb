{
 "cells": [
  {
   "cell_type": "code",
   "execution_count": 1,
   "id": "8eb3a286",
   "metadata": {},
   "outputs": [],
   "source": [
    "# We import the necessary libraries for data visualization and analysis\n",
    "import pandas as pd\n",
    "import matplotlib.pyplot as plt\n",
    "import numpy as np\n",
    "import warnings\n",
    "import seaborn as sns\n",
    "from matplotlib import rcParams\n",
    "from matplotlib.cm import rainbow\n",
    "\n",
    "# We filter out any warning messages that might be raised during the code execution\n",
    "warnings.filterwarnings('ignore')\n"
   ]
  },
  {
   "cell_type": "code",
   "execution_count": 2,
   "id": "cf364fbb",
   "metadata": {},
   "outputs": [],
   "source": [
    "import pandas as pd\n",
    "df = pd.read_csv('Dataaftercleaning.csv')"
   ]
  },
  {
   "cell_type": "code",
   "execution_count": 3,
   "id": "c31bbd55",
   "metadata": {},
   "outputs": [
    {
     "data": {
      "text/html": [
       "<div>\n",
       "<style scoped>\n",
       "    .dataframe tbody tr th:only-of-type {\n",
       "        vertical-align: middle;\n",
       "    }\n",
       "\n",
       "    .dataframe tbody tr th {\n",
       "        vertical-align: top;\n",
       "    }\n",
       "\n",
       "    .dataframe thead th {\n",
       "        text-align: right;\n",
       "    }\n",
       "</style>\n",
       "<table border=\"1\" class=\"dataframe\">\n",
       "  <thead>\n",
       "    <tr style=\"text-align: right;\">\n",
       "      <th></th>\n",
       "      <th>Unnamed: 0</th>\n",
       "      <th>Class</th>\n",
       "      <th>FL_B</th>\n",
       "      <th>FL_A</th>\n",
       "      <th>VS</th>\n",
       "      <th>FL_B_3</th>\n",
       "      <th>FL_A_3</th>\n",
       "      <th>FL_B_12</th>\n",
       "      <th>FL_A_12</th>\n",
       "      <th>Container Type</th>\n",
       "      <th>Recyclable fraction</th>\n",
       "      <th>FL_C</th>\n",
       "      <th>FL_C_3</th>\n",
       "      <th>FL_C_12</th>\n",
       "    </tr>\n",
       "  </thead>\n",
       "  <tbody>\n",
       "    <tr>\n",
       "      <th>0</th>\n",
       "      <td>0</td>\n",
       "      <td>0</td>\n",
       "      <td>0.942421</td>\n",
       "      <td>-0.740636</td>\n",
       "      <td>0.360564</td>\n",
       "      <td>75.9</td>\n",
       "      <td>54.7</td>\n",
       "      <td>83.3</td>\n",
       "      <td>39.8</td>\n",
       "      <td>12</td>\n",
       "      <td>0</td>\n",
       "      <td>-1.404335</td>\n",
       "      <td>-21.2</td>\n",
       "      <td>-43.5</td>\n",
       "    </tr>\n",
       "    <tr>\n",
       "      <th>1</th>\n",
       "      <td>1</td>\n",
       "      <td>0</td>\n",
       "      <td>1.554666</td>\n",
       "      <td>0.422102</td>\n",
       "      <td>1.178111</td>\n",
       "      <td>83.3</td>\n",
       "      <td>33.9</td>\n",
       "      <td>85.0</td>\n",
       "      <td>57.4</td>\n",
       "      <td>1</td>\n",
       "      <td>1</td>\n",
       "      <td>-1.081010</td>\n",
       "      <td>-49.4</td>\n",
       "      <td>-27.6</td>\n",
       "    </tr>\n",
       "    <tr>\n",
       "      <th>2</th>\n",
       "      <td>2</td>\n",
       "      <td>1</td>\n",
       "      <td>-0.989803</td>\n",
       "      <td>1.215183</td>\n",
       "      <td>-0.048210</td>\n",
       "      <td>30.8</td>\n",
       "      <td>55.7</td>\n",
       "      <td>51.7</td>\n",
       "      <td>68.5</td>\n",
       "      <td>1</td>\n",
       "      <td>2</td>\n",
       "      <td>1.803650</td>\n",
       "      <td>24.9</td>\n",
       "      <td>16.8</td>\n",
       "    </tr>\n",
       "    <tr>\n",
       "      <th>3</th>\n",
       "      <td>3</td>\n",
       "      <td>0</td>\n",
       "      <td>0.818848</td>\n",
       "      <td>-0.774241</td>\n",
       "      <td>0.360564</td>\n",
       "      <td>91.8</td>\n",
       "      <td>61.1</td>\n",
       "      <td>84.6</td>\n",
       "      <td>43.6</td>\n",
       "      <td>7</td>\n",
       "      <td>0</td>\n",
       "      <td>-1.318452</td>\n",
       "      <td>-30.7</td>\n",
       "      <td>-41.0</td>\n",
       "    </tr>\n",
       "    <tr>\n",
       "      <th>4</th>\n",
       "      <td>4</td>\n",
       "      <td>1</td>\n",
       "      <td>0.279623</td>\n",
       "      <td>-0.888499</td>\n",
       "      <td>-0.865758</td>\n",
       "      <td>68.0</td>\n",
       "      <td>30.5</td>\n",
       "      <td>62.4</td>\n",
       "      <td>53.0</td>\n",
       "      <td>7</td>\n",
       "      <td>1</td>\n",
       "      <td>-0.919348</td>\n",
       "      <td>-37.5</td>\n",
       "      <td>-9.4</td>\n",
       "    </tr>\n",
       "  </tbody>\n",
       "</table>\n",
       "</div>"
      ],
      "text/plain": [
       "   Unnamed: 0  Class      FL_B      FL_A        VS  FL_B_3  FL_A_3  FL_B_12  \\\n",
       "0           0      0  0.942421 -0.740636  0.360564    75.9    54.7     83.3   \n",
       "1           1      0  1.554666  0.422102  1.178111    83.3    33.9     85.0   \n",
       "2           2      1 -0.989803  1.215183 -0.048210    30.8    55.7     51.7   \n",
       "3           3      0  0.818848 -0.774241  0.360564    91.8    61.1     84.6   \n",
       "4           4      1  0.279623 -0.888499 -0.865758    68.0    30.5     62.4   \n",
       "\n",
       "   FL_A_12  Container Type  Recyclable fraction      FL_C  FL_C_3  FL_C_12  \n",
       "0     39.8              12                    0 -1.404335   -21.2    -43.5  \n",
       "1     57.4               1                    1 -1.081010   -49.4    -27.6  \n",
       "2     68.5               1                    2  1.803650    24.9     16.8  \n",
       "3     43.6               7                    0 -1.318452   -30.7    -41.0  \n",
       "4     53.0               7                    1 -0.919348   -37.5     -9.4  "
      ]
     },
     "execution_count": 3,
     "metadata": {},
     "output_type": "execute_result"
    }
   ],
   "source": [
    "# We import the necessary libraries for preprocessing the data\n",
    "from sklearn import preprocessing\n",
    "from sklearn.preprocessing import StandardScaler\n",
    "\n",
    "# We create an instance of the StandardScaler to standardize the data\n",
    "standardScaler = StandardScaler()\n",
    "\n",
    "# We specify the columns we want to scale\n",
    "columns_to_scale = ['FL_B', 'FL_A', 'FL_C', 'VS']\n",
    "\n",
    "# We apply the StandardScaler to the specified columns\n",
    "df[columns_to_scale] = standardScaler.fit_transform(df[columns_to_scale])\n",
    "\n",
    "# We display the first few rows of the dataframe to check if the standardization was successful\n",
    "df.head()\n",
    "\n"
   ]
  },
  {
   "cell_type": "code",
   "execution_count": 4,
   "id": "d54772a2",
   "metadata": {},
   "outputs": [],
   "source": [
    "# We import the necessary library for splitting the data into training and testing sets\n",
    "from sklearn.model_selection import train_test_split\n",
    "\n",
    "# We split the data into training and testing sets using train_test_split\n",
    "# We specify that we want to use 20% of the data for testing, and the rest for training\n",
    "train, test = train_test_split(df, test_size=0.2)\n",
    "\n",
    "# We define the training features we want to use for our model\n",
    "train_X = train[['FL_A', 'FL_C', 'VS']]\n",
    "\n",
    "# We define the target variable for our training set\n",
    "train_y = train.Class\n",
    "\n",
    "# We define the testing features we want to use for our model\n",
    "test_X = test[['FL_A', 'FL_C', 'VS']]\n",
    "\n",
    "# We define the target variable for our testing set\n",
    "test_y = test.Class\n"
   ]
  },
  {
   "cell_type": "code",
   "execution_count": null,
   "id": "762f1557",
   "metadata": {},
   "outputs": [],
   "source": []
  },
  {
   "cell_type": "code",
   "execution_count": 6,
   "id": "e6328950",
   "metadata": {},
   "outputs": [
    {
     "name": "stdout",
     "output_type": "stream",
     "text": [
      "[[402  43]\n",
      " [ 43 440]]\n"
     ]
    },
    {
     "data": {
      "image/png": "[encoded data removed]",
      "text/plain": [
       "<Figure size 640x480 with 2 Axes>"
      ]
     },
     "metadata": {},
     "output_type": "display_data"
    }
   ],
   "source": [
    "from sklearn.metrics import classification_report, confusion_matrix\n",
    "#import the necessary metrics for evaluating the classifier's performance.\n",
    "from sklearn.metrics import plot_confusion_matrix\n",
    "from sklearn.linear_model import LogisticRegression\n",
    "#create a logistic regression classifier object with a fixed random state.\n",
    "classifier= LogisticRegression(random_state=0)  \n",
    "#train the classifier on the training data train_X and the corresponding labels train_y.\n",
    "classifier.fit(train_X,train_y) \n",
    "y_pred= classifier.predict(test_X)\n",
    "#compute the confusion matrix using the predicted labels y_pred and the true labels test_y.\n",
    "cm= confusion_matrix(test_y,y_pred) \n",
    "print(cm)\n",
    "plot_confusion_matrix(classifier, test_X, test_y, cmap=plt.cm.Blues);"
   ]
  },
  {
   "cell_type": "code",
   "execution_count": 7,
   "id": "8c8aaae2",
   "metadata": {},
   "outputs": [
    {
     "name": "stdout",
     "output_type": "stream",
     "text": [
      "              precision    recall  f1-score   support\n",
      "\n",
      "           0       0.90      0.90      0.90       445\n",
      "           1       0.91      0.91      0.91       483\n",
      "\n",
      "    accuracy                           0.91       928\n",
      "   macro avg       0.91      0.91      0.91       928\n",
      "weighted avg       0.91      0.91      0.91       928\n",
      "\n",
      "Accuracy  :  90.73275862068965\n",
      "Precision :  91.09730848861284\n",
      "Recall    :  91.09730848861284\n",
      "F1 score  :  91.09730848861284\n",
      "MCC score :  0.814\n"
     ]
    }
   ],
   "source": [
    "\n",
    "\n",
    "print(classification_report(test_y,y_pred))\n",
    "#Compute the performance metrics using confusion matrix values\n",
    "TP = cm[1][1]\n",
    "FP = cm[0][1]\n",
    "TN = cm[0][0]\n",
    "FN = cm[1][0]\n",
    "#Calculate the Matthews Correlation Coefficient (MCC)\n",
    "b = ((TP+FP)*(TP+FN)*(TN+FP)*(TN+FN))\n",
    "b = b**0.5\n",
    "a = (TP*TN-FP*FN)\n",
    "MCC_SVM = round(a/b, 3)\n",
    "#Calculate other performance metrics\n",
    "Precision_Score = TP / (FP + TP)\n",
    "Recall_Score = TP / (FN + TP)\n",
    "Accuracy_Score = (TP + TN)/ (TP + FN + TN + FP)\n",
    "F1_Score = 2* Precision_Score * Recall_Score/ (Precision_Score + Recall_Score)\n",
    "\n",
    "print(\"Accuracy  : \",Accuracy_Score*100)\n",
    "print(\"Precision : \",Precision_Score*100)\n",
    "print(\"Recall    : \",Recall_Score*100)\n",
    "print(\"F1 score  : \",F1_Score*100)\n",
    "print('MCC score : ', MCC_SVM)"
   ]
  },
  {
   "cell_type": "code",
   "execution_count": 8,
   "id": "27f8cc1d",
   "metadata": {},
   "outputs": [
    {
     "name": "stdout",
     "output_type": "stream",
     "text": [
      "MSE: 0.09267241379310345\n"
     ]
    }
   ],
   "source": [
    "from sklearn.metrics import mean_squared_error\n",
    "\n",
    "mse = mean_squared_error(test_y, y_pred)\n",
    "print(\"MSE:\", mse)"
   ]
  },
  {
   "cell_type": "code",
   "execution_count": 9,
   "id": "4d9d8b5b",
   "metadata": {},
   "outputs": [],
   "source": [
    "df.to_csv(\"After_Logistic_Regression.csv\")"
   ]
  },
  {
   "cell_type": "code",
   "execution_count": null,
   "id": "252b2774",
   "metadata": {},
   "outputs": [],
   "source": []
  }
 ],
 "metadata": {
  "kernelspec": {
   "display_name": "Python 3 (ipykernel)",
   "language": "python",
   "name": "python3"
  },
  "language_info": {
   "codemirror_mode": {
    "name": "ipython",
    "version": 3
   },
   "file_extension": ".py",
   "mimetype": "text/x-python",
   "name": "python",
   "nbconvert_exporter": "python",
   "pygments_lexer": "ipython3",
   "version": "3.9.13"
  }
 },
 "nbformat": 4,
 "nbformat_minor": 5
}
